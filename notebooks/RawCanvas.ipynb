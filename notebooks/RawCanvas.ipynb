{
 "cells": [
  {
   "cell_type": "code",
   "execution_count": 1,
   "metadata": {},
   "outputs": [],
   "source": [
    "import numpy as np\n",
    "import fastcanvas  # import the library"
   ]
  },
  {
   "cell_type": "markdown",
   "metadata": {},
   "source": [
    "# The RawCanvas widget\n",
    "\n",
    "The RawCanvas widget allows you to display NumPy arrays directly in the browser, without converting the data into an image or using a full featured plotting library. This is cool if you want to have a better performance (e.g. for simple games or animations), or if you prefer to work on something \"raw\"!\n",
    "\n",
    "### Creating the Widget\n",
    "\n",
    "Here we are instantiating a Raw Canvas Widget"
   ]
  },
  {
   "cell_type": "code",
   "execution_count": 2,
   "metadata": {},
   "outputs": [],
   "source": [
    "cv = fastcanvas.RawCanvas()"
   ]
  },
  {
   "cell_type": "markdown",
   "metadata": {},
   "source": [
    "To draw something, we have to assign a numpy array. The array has to have the shape `(width, height, 4)`. We have a 4 at the end, because we need to set the following 4 values: R for Red, G for Green, B for Blue and A for Alpha. These 4 values define what the pixel will look like on the screen.\n",
    "\n",
    "Each RGBA value can go from `0` to `255`, where `255` is the \"fully red/green/blue\". For the alpha, or opacity value, `0` is completely translucent, and `255` is completely visible.\n",
    "\n",
    "In the example below, we concatenate an array of `255` for the alpha value to make the array completely visible."
   ]
  },
  {
   "cell_type": "code",
   "execution_count": 3,
   "metadata": {},
   "outputs": [],
   "source": [
    "data = np.asarray(np.random.random((200, 200, 3)) * 255, dtype='uint8')\n",
    "data = np.concatenate((data, np.ones((200, 200, 1), dtype='uint8') * 255), axis=2)\n",
    "cv.data = data"
   ]
  },
  {
   "cell_type": "code",
   "execution_count": 4,
   "metadata": {},
   "outputs": [
    {
     "data": {
      "application/vnd.jupyter.widget-view+json": {
       "model_id": "916f58a7f1ac4019ae32e2ce048de6a5",
       "version_major": 2,
       "version_minor": 0
      },
      "text/html": [
       "<p>Failed to display Jupyter Widget of type <code>RawCanvas</code>.</p>\n",
       "<p>\n",
       "  If you're reading this message in the Jupyter Notebook or JupyterLab Notebook, it may mean\n",
       "  that the widgets JavaScript is still loading. If this message persists, it\n",
       "  likely means that the widgets JavaScript library is either not installed or\n",
       "  not enabled. See the <a href=\"https://ipywidgets.readthedocs.io/en/stable/user_install.html\">Jupyter\n",
       "  Widgets Documentation</a> for setup instructions.\n",
       "</p>\n",
       "<p>\n",
       "  If you're reading this message in another frontend (for example, a static\n",
       "  rendering on GitHub or <a href=\"https://nbviewer.jupyter.org/\">NBViewer</a>),\n",
       "  it may mean that your frontend doesn't currently support widgets.\n",
       "</p>\n"
      ],
      "text/plain": [
       "RawCanvas(data=array([[[155, 205,  55, 255],\n",
       "        [ 47, 131, 111, 255],\n",
       "        [106,  42, 211, 255],\n",
       "        ...,\n",
       "        [210,  10, 164, 255],\n",
       "        [122, 248,   3, 255],\n",
       "        [119, 229,  40, 255]],\n",
       "\n",
       "       [[ 49,  30,  54, 255],\n",
       "        [151, 164,  79, 255],\n",
       "        [128, 225, 184, 255],\n",
       "        ...,\n",
       "        [198,  68, 206, 255],\n",
       "        [189,   7,  90, 255],\n",
       "        [160, 244,  16, 255]],\n",
       "\n",
       "       [[ 32, 185, 205, 255],\n",
       "        [229,  35, 210, 255],\n",
       "        [195,  74, 141, 255],\n",
       "        ...,\n",
       "        [ 89, 237, 244, 255],\n",
       "        [146, 106,  70, 255],\n",
       "        [143,  73,  58, 255]],\n",
       "\n",
       "       ...,\n",
       "\n",
       "       [[ 60, 111,  88, 255],\n",
       "        [215, 131,  66, 255],\n",
       "        [190,   5, 215, 255],\n",
       "        ...,\n",
       "        [ 30,  31,  53, 255],\n",
       "        [ 50,   8, 236, 255],\n",
       "        [240, 141, 143, 255]],\n",
       "\n",
       "       [[244, 184,  91, 255],\n",
       "        [ 67, 190,  45, 255],\n",
       "        [ 47, 161,  21, 255],\n",
       "        ...,\n",
       "        [ 76, 111, 204, 255],\n",
       "        [ 63, 246,   7, 255],\n",
       "        [137, 183, 197, 255]],\n",
       "\n",
       "       [[195, 220, 156, 255],\n",
       "        [ 50, 112, 248, 255],\n",
       "        [ 42, 200, 161, 255],\n",
       "        ...,\n",
       "        [ 30, 225,  77, 255],\n",
       "        [114, 126,  19, 255],\n",
       "        [ 15,  86,  76, 255]]], dtype=uint8))"
      ]
     },
     "metadata": {},
     "output_type": "display_data"
    }
   ],
   "source": [
    "cv"
   ]
  },
  {
   "cell_type": "markdown",
   "metadata": {},
   "source": [
    "As expected, we get some colourful random noise. Beautiful. \n",
    "Just to reminiscience in good old CRT memories, let's create some colorful noise animation!"
   ]
  },
  {
   "cell_type": "code",
   "execution_count": 15,
   "metadata": {},
   "outputs": [],
   "source": [
    "import time\n",
    "for i in range(0, 20):\n",
    "    data = np.asarray(np.random.random((200, 200, 3)) * 255, dtype='uint8')\n",
    "    data = np.concatenate((data, np.ones((200, 200, 1), dtype='uint8') * 255), axis=2)\n",
    "    cv.data = data\n",
    "    time.sleep(0.05)"
   ]
  },
  {
   "cell_type": "markdown",
   "metadata": {},
   "source": [
    "Let's do something more beautiful: draw a gradient. I've adopted the code from stackoverflow user Mark Ransom (https://stackoverflow.com/a/25679063) to draw a colorful gradient on the RawCanvas widget.\n",
    "See if you can play around with the colors to get even nicer results...\n",
    "\n",
    "---\n",
    "\n",
    "**Note** because of the way image coordinates work, we use `height x width x RGBA` for the shape of the matrix!"
   ]
  },
  {
   "cell_type": "code",
   "execution_count": 9,
   "metadata": {},
   "outputs": [
    {
     "data": {
      "application/vnd.jupyter.widget-view+json": {
       "model_id": "84b3090f2dd74488a725d07c3df60e38",
       "version_major": 2,
       "version_minor": 0
      },
      "text/html": [
       "<p>Failed to display Jupyter Widget of type <code>RawCanvas</code>.</p>\n",
       "<p>\n",
       "  If you're reading this message in the Jupyter Notebook or JupyterLab Notebook, it may mean\n",
       "  that the widgets JavaScript is still loading. If this message persists, it\n",
       "  likely means that the widgets JavaScript library is either not installed or\n",
       "  not enabled. See the <a href=\"https://ipywidgets.readthedocs.io/en/stable/user_install.html\">Jupyter\n",
       "  Widgets Documentation</a> for setup instructions.\n",
       "</p>\n",
       "<p>\n",
       "  If you're reading this message in another frontend (for example, a static\n",
       "  rendering on GitHub or <a href=\"https://nbviewer.jupyter.org/\">NBViewer</a>),\n",
       "  it may mean that your frontend doesn't currently support widgets.\n",
       "</p>\n"
      ],
      "text/plain": [
       "RawCanvas(data=array([[[ 11,  48, 137, 255],\n",
       "        [ 11,  49, 137, 255],\n",
       "        [ 11,  50, 138, 255],\n",
       "        ...,\n",
       "        [ 12,  78,  35, 255],\n",
       "        [ 12,  77,  34, 255],\n",
       "        [ 12,  76,  34, 255]],\n",
       "\n",
       "       [[ 11,  48, 137, 255],\n",
       "        [ 11,  49, 137, 255],\n",
       "        [ 11,  50, 138, 255],\n",
       "        ...,\n",
       "        [ 12,  78,  35, 255],\n",
       "        [ 12,  77,  34, 255],\n",
       "        [ 12,  76,  34, 255]],\n",
       "\n",
       "       [[ 11,  48, 137, 255],\n",
       "        [ 11,  49, 137, 255],\n",
       "        [ 11,  50, 138, 255],\n",
       "        ...,\n",
       "        [ 12,  78,  35, 255],\n",
       "        [ 12,  77,  34, 255],\n",
       "        [ 12,  76,  34, 255]],\n",
       "\n",
       "       ...,\n",
       "\n",
       "       [[ 11,  48, 137, 255],\n",
       "        [ 11,  49, 137, 255],\n",
       "        [ 11,  50, 138, 255],\n",
       "        ...,\n",
       "        [ 12,  78,  35, 255],\n",
       "        [ 12,  77,  34, 255],\n",
       "        [ 12,  76,  34, 255]],\n",
       "\n",
       "       [[ 11,  48, 137, 255],\n",
       "        [ 11,  49, 137, 255],\n",
       "        [ 11,  50, 138, 255],\n",
       "        ...,\n",
       "        [ 12,  78,  35, 255],\n",
       "        [ 12,  77,  34, 255],\n",
       "        [ 12,  76,  34, 255]],\n",
       "\n",
       "       [[ 11,  48, 137, 255],\n",
       "        [ 11,  49, 137, 255],\n",
       "        [ 11,  50, 138, 255],\n",
       "        ...,\n",
       "        [ 12,  78,  35, 255],\n",
       "        [ 12,  77,  34, 255],\n",
       "        [ 12,  76,  34, 255]]], dtype=uint8))"
      ]
     },
     "metadata": {},
     "output_type": "display_data"
    }
   ],
   "source": [
    "import math\n",
    "\n",
    "cv2 = fastcanvas.RawCanvas()\n",
    "\n",
    "def gaussian(x, a, b, c, d=0):\n",
    "    return a * math.exp(-(x - b)**2 / (2 * c**2)) + d\n",
    "\n",
    "height = 100\n",
    "width = 600\n",
    "\n",
    "gradient = np.zeros((height, width, 4), dtype='uint8')\n",
    "\n",
    "for x in range(gradient.shape[1]):\n",
    "    r = int(gaussian(x, 158.8242, 201, 87.0739) + gaussian(x, 158.8242, 402, 87.0739))\n",
    "    g = int(gaussian(x, 129.9851, 157.7571, 108.0298) + gaussian(x, 200.6831, 399.4535, 143.6828))\n",
    "    b = int(gaussian(x, 231.3135, 206., 201.5447) + gaussian(x, 17.1017, 395.8819, 39.3148))\n",
    "    for y in range(gradient.shape[0]):\n",
    "        gradient[y, x, :] = r, g, b, 255\n",
    "\n",
    "cv2.data = gradient\n",
    "cv2"
   ]
  }
 ],
 "metadata": {
  "kernelspec": {
   "display_name": "Python 3",
   "language": "python",
   "name": "python3"
  },
  "language_info": {
   "codemirror_mode": {
    "name": "ipython",
    "version": 3
   },
   "file_extension": ".py",
   "mimetype": "text/x-python",
   "name": "python",
   "nbconvert_exporter": "python",
   "pygments_lexer": "ipython3",
   "version": "3.6.2"
  }
 },
 "nbformat": 4,
 "nbformat_minor": 2
}
